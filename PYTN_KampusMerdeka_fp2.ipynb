{
 "cells": [
  {
   "cell_type": "markdown",
   "id": "d615d8a4",
   "metadata": {},
   "source": [
    "# Project Overview\n",
    "Dataset yang digunakan pada projek ini adalah dataset publik yang tersedia diwebsite kaggle, untuk mendapatkan dataset dapat ditemukan melalui link <a href=\"https://www.kaggle.com/jsphyg/weather-dataset-rattle-package\"><b> klik disini</b></a>.  Dataset ini memiliki 23 atribut yang berisi informasi mengenai record data hujan harian selama 10 tahun di Australia. Tujuan utama dari penelitian ini adalah untuk memprediksi cuaca apakah hari selanjutnya hujan atau tidak dengan mengimplementasikan analisa prediction menggunakan algoritma Logistic Regression dan Support Vector Machine (SVM). Sebelum melakukan modeling perlu dilakukan processing data agar model prediksi yang dihasilkan memiliki tingkat akurasi yang optimal.\n",
    "#### Final Project 2 ini dibuat guna mengevaluasi konsep Regression sebagai berikut:\n",
    "* Mampu memahami konsep Classification dengan Logistic Regression dan SVM\n",
    "* Mampu mempersiapkan data untuk digunakan dalam model  Logistic Regression dan SVM\n",
    "* Mampu mengimplementasikan  Logistic Regression dan SVM untuk membuat prediksi\n",
    "\n",
    "#### Attribute Information:\n",
    "- Date - tanggal hari itu\n",
    "- Location - lokasi, nama kota di Australia\n",
    "- MinTemp - temperatur terendah hari itu dalam celcius\n",
    "- MaxTemp - temperatur tertinggi hari itu dalam celcius\n",
    "- Rainfall - jumlah curah hujan hari itu dalam mm\n",
    "- Evaporation - jumlah evaporasi dalam mm dari Class A pan selama 24 jam\n",
    "- sebelum jam 9 pagi hari itu\n",
    "- Sunshine - jumlah jam hari itu cerah dengan cahaya matahari\n",
    "- WindGustDir - arah kecepatan angin yang paling tinggi selama 24 jam sebelum\n",
    "- jam 12 malam hari itu\n",
    "- WindGustSpeed - kecepatan angin yang paling tinggi dalam km/jam selama 24\n",
    "- jam sebelum jam 12 malam hari itu\n",
    "- WindDir9am - arah angin jam 9 pagi\n",
    "- WindDir3pm - arah angin jam 3 sore\n",
    "- WindSpeed9am - kecepatan angin jam 9 pagi dalam km/jam dihitung dari\n",
    "- rata-rata kecepatan angin 10 menit sebelum jam 3 sore\n",
    "- WindSpeed3pm - kecepatan angin jam 3 sore dalam km/jam dihitung dari\n",
    "- rata-rata kecepatan angin 10 menit sebelum jam 3 sore\n",
    "- Humidity9am - humiditas jam 9 pagi dalam persen\n",
    "- Humidity3pm - humiditas jam 3 sore dalam persen\n",
    "- Pressure9am - tekanan udara jam 9 pagi dalam hpa\n",
    "- Pressure3pm - tekanan udara jam 3 sore dalam hpa\n",
    "- Cloud9am - persentase langit yang tertutup awan jam 9 pagi. dihitung dalam\n",
    "- oktas, unit 1⁄8, menghitung berapa unit 1⁄8 dari langit yang tertutup awan. Jika 0,\n",
    "- langit cerah, jika 8, langit sepenuhnya tertutup awan.\n",
    "- Cloud3pm - persentase langit yang tertutup awan jam 3 sore\n",
    "- Temp9am - temperatur jam 9 pagi dalam celcius\n",
    "- Temp3pm - temperatur jam 3 sore dalam celcius\n",
    "- RainToday - apakah hari ini hujan: jika curah hujan 24 jam sebelum jam 9 pagi\n",
    "- melebihi 1mm, maka nilai ini adalah 1, jika tidak nilai nya 0\n",
    "- RainTomorrow - variable yang mau di prediksi"
   ]
  },
  {
   "cell_type": "markdown",
   "id": "fc02a18e",
   "metadata": {},
   "source": [
    "# Import Libraries\n"
   ]
  },
  {
   "cell_type": "code",
   "execution_count": null,
   "id": "28d0dd84",
   "metadata": {},
   "outputs": [],
   "source": []
  },
  {
   "cell_type": "markdown",
   "id": "918623ed",
   "metadata": {},
   "source": [
    "# Load Dataset"
   ]
  },
  {
   "cell_type": "code",
   "execution_count": null,
   "id": "d01f0187",
   "metadata": {},
   "outputs": [],
   "source": []
  },
  {
   "cell_type": "markdown",
   "id": "883effea",
   "metadata": {},
   "source": [
    "# Data Preprocessing"
   ]
  },
  {
   "cell_type": "code",
   "execution_count": null,
   "id": "aa36c065",
   "metadata": {},
   "outputs": [],
   "source": []
  },
  {
   "cell_type": "markdown",
   "id": "2728fcd2",
   "metadata": {},
   "source": [
    "# Exploratory Data Analysis"
   ]
  },
  {
   "cell_type": "code",
   "execution_count": null,
   "id": "86d5ce2a",
   "metadata": {},
   "outputs": [],
   "source": []
  },
  {
   "cell_type": "markdown",
   "id": "998e3fd0",
   "metadata": {},
   "source": [
    "# Modeling"
   ]
  },
  {
   "cell_type": "code",
   "execution_count": null,
   "id": "585ec8d1",
   "metadata": {},
   "outputs": [],
   "source": []
  },
  {
   "cell_type": "markdown",
   "id": "af6134e9",
   "metadata": {},
   "source": [
    "# Conclusion"
   ]
  },
  {
   "cell_type": "code",
   "execution_count": null,
   "id": "3aa83a29",
   "metadata": {},
   "outputs": [],
   "source": []
  }
 ],
 "metadata": {
  "kernelspec": {
   "display_name": "Python 3",
   "language": "python",
   "name": "python3"
  },
  "language_info": {
   "codemirror_mode": {
    "name": "ipython",
    "version": 3
   },
   "file_extension": ".py",
   "mimetype": "text/x-python",
   "name": "python",
   "nbconvert_exporter": "python",
   "pygments_lexer": "ipython3",
   "version": "3.8.10"
  }
 },
 "nbformat": 4,
 "nbformat_minor": 5
}
